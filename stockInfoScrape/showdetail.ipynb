{
 "cells": [
  {
   "cell_type": "code",
   "execution_count": 11,
   "metadata": {},
   "outputs": [],
   "source": [
    "import os\n",
    "import pandas as pd\n",
    "import json\n",
    "\n",
    "\n",
    "def crawl():\n",
    "    cacheClean()\n",
    "    os.system(\"scrapy crawl prnewswire -o ./bin/prnewswire.json\")\n",
    "    dataFiles = getJsonFile()\n",
    "    print('Data Scrapped in below files:')\n",
    "    for f in dataFiles:\n",
    "        print(f)\n",
    "\n",
    "def getJsonFile():\n",
    "    dir = os.getcwd()\n",
    "    bin = os.path.join(dir, \"bin\")\n",
    "    fileList = os.listdir(bin)\n",
    "    dataFiles = [file for file in fileList if file.endswith(\".json\") and file.__contains__('input') == False]\n",
    "    dataFileList = []\n",
    "    for file in dataFiles:\n",
    "        dataFileList.append(os.path.join(bin, file))\n",
    "    return dataFileList\n",
    "\n",
    "def searchfile(keyword, searchpath):\n",
    "    items = os.listdir(searchpath)\n",
    "    for item in items:\n",
    "        path = os.path.join(searchpath, item)\n",
    "        name = os.path.splitext(item)[0]\n",
    "        suffix = os.path.splitext(item)[1]\n",
    "        if(keyword in name):\n",
    "            return path\n",
    "\n",
    "    return ''\n",
    "\n",
    "def cacheClean():\n",
    "    c = 0\n",
    "    dataFileList = getJsonFile()\n",
    "    for file in dataFileList:\n",
    "        os.remove(file)\n",
    "        c+=1\n",
    "    print('Removed ' + str(c) + ' Files!')\n",
    "\n",
    "def SearchList(kwList,string):\n",
    "    s = ''\n",
    "    for x in kwList:\n",
    "        xLen = len(x.split())\n",
    "        if xLen > 1:\n",
    "            if (x.lower() in string.lower()):\n",
    "                s = s+', '+str(x)\n",
    "        elif xLen == 1:\n",
    "            if (x.lower() in string.lower().split()):\n",
    "                s = s+', '+str(x)\n",
    "    return s[2:]"
   ]
  },
  {
   "cell_type": "code",
   "execution_count": 12,
   "metadata": {},
   "outputs": [
    {
     "name": "stdout",
     "output_type": "stream",
     "text": [
      "Web Crawl for news site Start!\n",
      "Removed 1 Files!\n",
      "Data Scrapped in below files:\n",
      "C:\\ywzz\\gitwork\\git\\Report\\stockInfoScrapeGit\\stockInfoScrape\\bin\\prnewswire.json\n",
      "Web Crawl for news site End!\n"
     ]
    }
   ],
   "source": [
    "    print('Web Crawl for news site Start!')\n",
    "    crawl()\n",
    "    print('Web Crawl for news site End!')"
   ]
  },
  {
   "cell_type": "code",
   "execution_count": 13,
   "metadata": {},
   "outputs": [
    {
     "name": "stdout",
     "output_type": "stream",
     "text": [
      "Web Crawl for stock site Start!\n",
      "Web Crawl for stock site End!\n"
     ]
    }
   ],
   "source": [
    "    print('Web Crawl for stock site Start!')\n",
    "    tmpdownloadpath = searchfile('output_stockinfo',os.getcwd())\n",
    "    if os.path.exists(tmpdownloadpath):\n",
    "        os.remove(tmpdownloadpath)\n",
    "    os.system(\"scrapy crawl nasdaq -o ./output_stockinfo.csv\")\n",
    "    print('Web Crawl for stock site End!')"
   ]
  },
  {
   "cell_type": "code",
   "execution_count": 14,
   "metadata": {},
   "outputs": [
    {
     "name": "stdout",
     "output_type": "stream",
     "text": [
      "      close        date     high        low     open stockname      volume\n",
      "0     $19.6  11/18/2020      $21      $19.6      $21      ENGH         378\n",
      "1    $21.25  11/17/2020   $21.25     $21.25   $21.25      ENGH         NaN\n",
      "2    $21.25  11/16/2020   $21.25     $21.25   $21.25      ENGH         197\n",
      "3       $21  11/13/2020   $22.99        $20      $20      ENGH       2,466\n",
      "4     $28.5  11/12/2020    $28.5        $20    $28.5      ENGH       8,961\n",
      "5    $42.99  11/18/2020   $43.59     $41.35   $41.81      LSPD     285,653\n",
      "6     $41.8  11/17/2020   $42.03     $39.17   $39.75      LSPD     223,998\n",
      "7    $39.75  11/16/2020   $39.95     $38.69    $39.4      LSPD     124,166\n",
      "8    $39.38  11/13/2020   $39.91      $39.2    $39.4      LSPD     116,099\n",
      "9    $39.15  11/12/2020   $40.34     $38.84      $40      LSPD     103,016\n",
      "10   $19.31  11/18/2020   $19.98      $19.3   $19.57       BHC   2,018,335\n",
      "11   $19.45  11/17/2020   $19.78     $19.33   $19.59       BHC   3,309,151\n",
      "12   $19.92  11/16/2020   $20.13   $19.4513   $19.91       BHC   3,787,781\n",
      "13    $19.6  11/13/2020   $19.63   $19.0001    $19.1       BHC   3,125,535\n",
      "14   $18.94  11/12/2020   $19.24      $18.8   $19.22       BHC   2,241,258\n",
      "15   $45.31  11/18/2020   $45.59   $44.7701   $45.08       SLF     427,991\n",
      "16   $45.15  11/17/2020   $45.56     $44.99   $45.18       SLF     590,112\n",
      "17   $45.34  11/16/2020   $45.38     $44.69   $45.06       SLF     491,674\n",
      "18   $44.45  11/13/2020   $45.21     $44.25   $45.04       SLF     648,390\n",
      "19   $44.87  11/12/2020   $45.62    $44.505   $45.38       SLF     511,294\n",
      "20    $5.44  11/18/2020    $5.61      $5.31    $5.35        BB   6,118,709\n",
      "21    $6.35  11/18/2020     $6.6      $6.14    $6.14      APHA  19,185,100\n",
      "22    $42.3  11/18/2020   $42.57     $42.06   $42.29      OTEX     499,326\n",
      "23    $5.29  11/17/2020     $5.3      $5.15    $5.22        BB   3,229,332\n",
      "24    $5.19  11/16/2020    $5.23      $5.13    $5.14        BB   3,276,284\n",
      "25    $5.11  11/13/2020    $5.15      $5.01    $5.02        BB   5,360,961\n",
      "26    $4.99  11/12/2020    $5.21      $4.98    $5.19        BB   2,988,412\n",
      "27    $6.07  11/17/2020    $6.13      $5.74   $5.762      APHA  10,526,950\n",
      "28     $5.8  11/16/2020   $5.855      $5.66    $5.75      APHA   6,048,612\n",
      "29    $5.66  11/13/2020    $5.78      $5.45   $5.525      APHA  18,110,540\n",
      "30    $5.43  11/12/2020    $5.69       $5.4    $5.47      APHA   7,434,030\n",
      "31   $42.18  11/17/2020   $42.36     $41.69   $41.73      OTEX     474,235\n",
      "32   $42.13  11/16/2020   $42.62     $41.85    $42.5      OTEX     486,572\n",
      "33   $42.27  11/13/2020   $42.29      $41.4    $41.4      OTEX     405,197\n",
      "34   $41.38  11/12/2020   $41.93    $41.075   $41.82      OTEX     447,632\n",
      "35  $931.43  11/18/2020     $936    $905.15     $915      SHOP   1,000,023\n",
      "36  $914.02  11/17/2020   $929.8    $905.17     $925      SHOP     760,239\n",
      "37  $919.22  11/16/2020  $919.39       $880  $890.11      SHOP   1,521,653\n",
      "38   $918.3  11/13/2020  $936.91  $908.4011  $934.54      SHOP     869,348\n",
      "39   $925.8  11/12/2020  $954.79    $921.73     $946      SHOP   1,225,823\n"
     ]
    }
   ],
   "source": [
    "df = pd.read_csv('./output_stockinfo.csv', dtype=str,sep=',',error_bad_lines=False)\n",
    "print(df)"
   ]
  },
  {
   "cell_type": "code",
   "execution_count": null,
   "metadata": {},
   "outputs": [],
   "source": []
  }
 ],
 "metadata": {
  "kernelspec": {
   "display_name": "Python 3",
   "language": "python",
   "name": "python3"
  },
  "language_info": {
   "codemirror_mode": {
    "name": "ipython",
    "version": 3
   },
   "file_extension": ".py",
   "mimetype": "text/x-python",
   "name": "python",
   "nbconvert_exporter": "python",
   "pygments_lexer": "ipython3",
   "version": "3.7.0"
  }
 },
 "nbformat": 4,
 "nbformat_minor": 4
}
